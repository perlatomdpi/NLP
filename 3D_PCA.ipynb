{
  "nbformat": 4,
  "nbformat_minor": 0,
  "metadata": {
    "colab": {
      "name": "3D_PCA.ipynb",
      "provenance": [],
      "authorship_tag": "ABX9TyMwT/sjNBkG9irrJaHGfJMm",
      "include_colab_link": true
    },
    "kernelspec": {
      "name": "python3",
      "display_name": "Python 3"
    },
    "language_info": {
      "name": "python"
    }
  },
  "cells": [
    {
      "cell_type": "markdown",
      "metadata": {
        "id": "view-in-github",
        "colab_type": "text"
      },
      "source": [
        "<a href=\"https://colab.research.google.com/github/perlatomdpi/NLP/blob/main/3D_PCA.ipynb\" target=\"_parent\"><img src=\"https://colab.research.google.com/assets/colab-badge.svg\" alt=\"Open In Colab\"/></a>"
      ]
    },
    {
      "cell_type": "markdown",
      "metadata": {
        "id": "wVegV2L9-aoP"
      },
      "source": [
        "# **Dimentionality reduction in 3D viz**"
      ]
    },
    {
      "cell_type": "code",
      "metadata": {
        "id": "nDS0NwUq-W9J"
      },
      "source": [
        "!pip install babyplots"
      ],
      "execution_count": null,
      "outputs": []
    },
    {
      "cell_type": "code",
      "metadata": {
        "id": "fnsiMu6e-xZi"
      },
      "source": [
        "from babyplots import Babyplot"
      ],
      "execution_count": 2,
      "outputs": []
    },
    {
      "cell_type": "markdown",
      "metadata": {
        "id": "J9illW-Y-ux2"
      },
      "source": [
        "Once imported, we can create a babyplots visualization using the Babyplot class by adding plots to it. To display your visualization, simply call the object."
      ]
    },
    {
      "cell_type": "code",
      "metadata": {
        "id": "hQMloHxBBRkN"
      },
      "source": [
        "import numpy as np\n",
        "from sklearn import decomposition\n",
        "from sklearn import datasets\n",
        "from babyplots import Babyplot\n",
        "np.random.seed(5)\n",
        "\n",
        "iris = datasets.load_iris()\n",
        "X = iris.data\n",
        "y = iris.target\n",
        "\n",
        "iris = datasets.load_iris()\n",
        "X = iris.data\n",
        "y = iris.target\n",
        "\n",
        "bp_iris = Babyplot(background_color=\"#262626ff\")\n",
        "\n",
        "bp_iris.add_plot(X.tolist(), \"shapeCloud\", \"categories\", y.tolist(), {\"shape\": \"sphere\", \"colorScale\": \"Set2\", \"showAxes\": [True, True, True], \"axisLabels\": [\"PC 1\", \"PC 2\", \"PC 3\"]})\n",
        "\n",
        "bp_iris"
      ],
      "execution_count": null,
      "outputs": []
    },
    {
      "cell_type": "code",
      "metadata": {
        "id": "aJ8SFnWwF8zU"
      },
      "source": [
        "bp.save_as_html(\"../test.html\")"
      ],
      "execution_count": 10,
      "outputs": []
    }
  ]
}