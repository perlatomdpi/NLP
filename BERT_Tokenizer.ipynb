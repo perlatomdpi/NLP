{
  "nbformat": 4,
  "nbformat_minor": 0,
  "metadata": {
    "colab": {
      "name": "BERT-Tokenizer.ipynb",
      "provenance": [],
      "toc_visible": true,
      "authorship_tag": "ABX9TyPND/i7BYWf5CTCbualdMiY",
      "include_colab_link": true
    },
    "kernelspec": {
      "name": "python3",
      "display_name": "Python 3"
    },
    "accelerator": "GPU"
  },
  "cells": [
    {
      "cell_type": "markdown",
      "metadata": {
        "id": "view-in-github",
        "colab_type": "text"
      },
      "source": [
        "<a href=\"https://colab.research.google.com/github/perlatomdpi/NLP/blob/main/BERT_Tokenizer.ipynb\" target=\"_parent\"><img src=\"https://colab.research.google.com/assets/colab-badge.svg\" alt=\"Open In Colab\"/></a>"
      ]
    },
    {
      "cell_type": "markdown",
      "metadata": {
        "id": "p08RJovPj-H1"
      },
      "source": [
        "# **BERT Tokenizer**\n",
        "Example of tokenization using BERT\n",
        "\n"
      ]
    },
    {
      "cell_type": "markdown",
      "metadata": {
        "id": "nKcb5sAE0-KJ"
      },
      "source": [
        "# **Import dependencies**\n"
      ]
    },
    {
      "cell_type": "code",
      "metadata": {
        "id": "s0MsGBU4jvhj"
      },
      "source": [
        "import numpy as np\n",
        "import math\n",
        "import re # advanced text pre-processing\n",
        "import pandas as pd\n",
        "from bs4 import BeautifulSoup # encode text\n",
        "import random\n",
        "\n",
        "from google.colab import drive # get data from drive"
      ],
      "execution_count": 1,
      "outputs": []
    },
    {
      "cell_type": "code",
      "metadata": {
        "colab": {
          "base_uri": "https://localhost:8080/"
        },
        "id": "6wRGOj3X2WRv",
        "outputId": "5166b7d2-7ad6-40cd-e09c-9ee76a44fe7f"
      },
      "source": [
        "# packages related to BERT\n",
        "!pip install bert-for-tf2 \n",
        "!pip install sentencepiece # requirement for tf2"
      ],
      "execution_count": 2,
      "outputs": [
        {
          "output_type": "stream",
          "text": [
            "Collecting bert-for-tf2\n",
            "\u001b[?25l  Downloading https://files.pythonhosted.org/packages/18/d3/820ccaf55f1e24b5dd43583ac0da6d86c2d27bbdfffadbba69bafe73ca93/bert-for-tf2-0.14.7.tar.gz (41kB)\n",
            "\r\u001b[K     |████████                        | 10kB 22.9MB/s eta 0:00:01\r\u001b[K     |████████████████                | 20kB 19.5MB/s eta 0:00:01\r\u001b[K     |███████████████████████▉        | 30kB 11.3MB/s eta 0:00:01\r\u001b[K     |███████████████████████████████▉| 40kB 9.5MB/s eta 0:00:01\r\u001b[K     |████████████████████████████████| 51kB 5.7MB/s \n",
            "\u001b[?25hCollecting py-params>=0.9.6\n",
            "  Downloading https://files.pythonhosted.org/packages/a4/bf/c1c70d5315a8677310ea10a41cfc41c5970d9b37c31f9c90d4ab98021fd1/py-params-0.9.7.tar.gz\n",
            "Collecting params-flow>=0.8.0\n",
            "  Downloading https://files.pythonhosted.org/packages/a9/95/ff49f5ebd501f142a6f0aaf42bcfd1c192dc54909d1d9eb84ab031d46056/params-flow-0.8.2.tar.gz\n",
            "Requirement already satisfied: numpy in /usr/local/lib/python3.6/dist-packages (from params-flow>=0.8.0->bert-for-tf2) (1.19.4)\n",
            "Requirement already satisfied: tqdm in /usr/local/lib/python3.6/dist-packages (from params-flow>=0.8.0->bert-for-tf2) (4.41.1)\n",
            "Building wheels for collected packages: bert-for-tf2, py-params, params-flow\n",
            "  Building wheel for bert-for-tf2 (setup.py) ... \u001b[?25l\u001b[?25hdone\n",
            "  Created wheel for bert-for-tf2: filename=bert_for_tf2-0.14.7-cp36-none-any.whl size=30537 sha256=6b45179b2cf36a93d547d8868a5b9181d83860fb70afb655bc6b2becd10c379b\n",
            "  Stored in directory: /root/.cache/pip/wheels/e1/f8/e2/b98f79a6b8cc898d8e4102b83acb8a098df7d27500a2bac912\n",
            "  Building wheel for py-params (setup.py) ... \u001b[?25l\u001b[?25hdone\n",
            "  Created wheel for py-params: filename=py_params-0.9.7-cp36-none-any.whl size=7303 sha256=75708213348abb1a844e534e1ea42a284b50abe0a62a98ecb492a86c7ee9fe87\n",
            "  Stored in directory: /root/.cache/pip/wheels/67/f5/19/b461849a50aefdf4bab47c4756596e82ee2118b8278e5a1980\n",
            "  Building wheel for params-flow (setup.py) ... \u001b[?25l\u001b[?25hdone\n",
            "  Created wheel for params-flow: filename=params_flow-0.8.2-cp36-none-any.whl size=19474 sha256=61c0e1fb062f9013f333b65c5c1f1bdaa1e3323dad67a2728f189ff93699783d\n",
            "  Stored in directory: /root/.cache/pip/wheels/08/c8/7f/81c86b9ff2b86e2c477e3914175be03e679e596067dc630c06\n",
            "Successfully built bert-for-tf2 py-params params-flow\n",
            "Installing collected packages: py-params, params-flow, bert-for-tf2\n",
            "Successfully installed bert-for-tf2-0.14.7 params-flow-0.8.2 py-params-0.9.7\n",
            "Collecting sentencepiece\n",
            "\u001b[?25l  Downloading https://files.pythonhosted.org/packages/e5/2d/6d4ca4bef9a67070fa1cac508606328329152b1df10bdf31fb6e4e727894/sentencepiece-0.1.94-cp36-cp36m-manylinux2014_x86_64.whl (1.1MB)\n",
            "\u001b[K     |████████████████████████████████| 1.1MB 6.8MB/s \n",
            "\u001b[?25hInstalling collected packages: sentencepiece\n",
            "Successfully installed sentencepiece-0.1.94\n"
          ],
          "name": "stdout"
        }
      ]
    },
    {
      "cell_type": "code",
      "metadata": {
        "id": "aja20le22_Ao"
      },
      "source": [
        "# use tf2\n",
        "try:\n",
        "    %tensorflow_version 2.x\n",
        "except Exception:\n",
        "    pass\n",
        "import tensorflow as tf\n",
        "\n",
        "import tensorflow_hub as hub # to download the weights of bert\n",
        "from tensorflow.keras import layers # to create cnn layers\n",
        "import bert"
      ],
      "execution_count": 7,
      "outputs": []
    },
    {
      "cell_type": "markdown",
      "metadata": {
        "id": "aROndqSM5wB6"
      },
      "source": [
        "# **Data pre-processing**\n"
      ]
    },
    {
      "cell_type": "code",
      "metadata": {
        "colab": {
          "base_uri": "https://localhost:8080/"
        },
        "id": "PcfoHywb52Ky",
        "outputId": "88a49bb3-96a3-4147-d627-89dc0e7fb2b9"
      },
      "source": [
        "drive.mount(\"/content/drive\")"
      ],
      "execution_count": 8,
      "outputs": [
        {
          "output_type": "stream",
          "text": [
            "Mounted at /content/drive\n"
          ],
          "name": "stdout"
        }
      ]
    },
    {
      "cell_type": "code",
      "metadata": {
        "id": "3KCaRslh68Qw"
      },
      "source": [
        "cols = [\"sentiment\", \"id\", \"query\", \"user\", \"text\"]\n",
        "data = pd.read.csv(\n",
        "    \"content/drive/My Drive/.../BERT/data/train.csv\",\n",
        "    header=None,\n",
        "    names=cols,\n",
        "    engine=\"python\", \n",
        "    encoding=\"latin1\"\n",
        ")"
      ],
      "execution_count": null,
      "outputs": []
    },
    {
      "cell_type": "code",
      "metadata": {
        "id": "q7sg8no_7tPS"
      },
      "source": [
        "data.drop([\"id\", \"date\", \"query\", \"user\"],\n",
        "          axis=1,\n",
        "          inplace=True) # inplace garantee that new lighter data are loaded"
      ],
      "execution_count": null,
      "outputs": []
    },
    {
      "cell_type": "markdown",
      "metadata": {
        "id": "L4IGFSH7895f"
      },
      "source": [
        "# **Cleaning**"
      ]
    },
    {
      "cell_type": "code",
      "metadata": {
        "id": "noUtaWPU9BY7"
      },
      "source": [
        "def clean_tweet(tweet):\n",
        "    tweet = BeautifulSoup(tweet, \"lxml\").get_text()\n",
        "    tweet = re.sub(r\"@[A-Za-z0-9]+\", '',tweet)   # replace a substring with another\n",
        "    tweet = re.sub(r\"https?://[A-Za-z0-9./]+\", '', tweet)\n",
        "    tweet = re.sub(r\"[^A-Za-z.!?]\", '', tweet)\n",
        "    tweet = re.sub(r\" +\", '', tweet)\n",
        "    return tweet"
      ],
      "execution_count": null,
      "outputs": []
    },
    {
      "cell_type": "code",
      "metadata": {
        "id": "dKJrxq2y-6q6"
      },
      "source": [
        "data_clean = [clean_tweet(tweet) for tweet in data.text]"
      ],
      "execution_count": null,
      "outputs": []
    },
    {
      "cell_type": "code",
      "metadata": {
        "id": "MVEw1dPo-4yL"
      },
      "source": [
        "data_labels = data.sentiment.values # get the value of the sentiment\n",
        "data_labels[data_labels == 4] = 1   # in the data 4 is for positve and we converted it to 1"
      ],
      "execution_count": null,
      "outputs": []
    },
    {
      "cell_type": "markdown",
      "metadata": {
        "id": "pHgYTdWHAhtF"
      },
      "source": [
        "# **Tokenization**\n",
        "We have to create a BERT layer to have access to meta data for the tokenier  - vocab size."
      ]
    },
    {
      "cell_type": "code",
      "metadata": {
        "id": "fTysYcQAAnRh"
      },
      "source": [
        "FullTokenizer = bert.bert_tokenization.FullTokenizer # call bert module\n",
        "\n",
        "bert_layer = hub.KerasLayer(\"https://tfhub.dev/tensorflow/bert_en_uncased_L-12_H-768_A-12/1\",\n",
        "                            trainable=False) # create bert layer - hub is were the pre-trainined model is stored\n",
        "                                             # here we use the light version of bert\n",
        "                                             # L-12: 12 encoders\n",
        "                                             # trainable=false --> we don't use bert for fine-tuning weights\n",
        "\n",
        "vocab_file = bert_layer.resolved_object.vocab_file.asset_path.numpy() # give access to the vocab file as numpy\n",
        "do_lower_case = bert_layer.resolved_object.do_lower_case.numpy() # lower case\n",
        "tokenizer = FullTokenizer(vocab_file, do_lower_case) # create the tokenizer"
      ],
      "execution_count": null,
      "outputs": []
    }
  ]
}