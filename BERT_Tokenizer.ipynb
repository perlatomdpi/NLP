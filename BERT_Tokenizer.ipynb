{
  "nbformat": 4,
  "nbformat_minor": 0,
  "metadata": {
    "colab": {
      "name": "BERT-Tokenizer.ipynb",
      "provenance": [],
      "toc_visible": true,
      "authorship_tag": "ABX9TyOaggGZaqTNCvinXqo1cPqv",
      "include_colab_link": true
    },
    "kernelspec": {
      "name": "python3",
      "display_name": "Python 3"
    },
    "accelerator": "GPU"
  },
  "cells": [
    {
      "cell_type": "markdown",
      "metadata": {
        "id": "view-in-github",
        "colab_type": "text"
      },
      "source": [
        "<a href=\"https://colab.research.google.com/github/perlatomdpi/NLP/blob/main/BERT_Tokenizer.ipynb\" target=\"_parent\"><img src=\"https://colab.research.google.com/assets/colab-badge.svg\" alt=\"Open In Colab\"/></a>"
      ]
    },
    {
      "cell_type": "markdown",
      "metadata": {
        "id": "p08RJovPj-H1"
      },
      "source": [
        "# **BERT Tokenizer**\n",
        "Example of tokenization using BERT\n",
        "\n"
      ]
    },
    {
      "cell_type": "markdown",
      "metadata": {
        "id": "nKcb5sAE0-KJ"
      },
      "source": [
        "# **Import dependencies**\n"
      ]
    },
    {
      "cell_type": "code",
      "metadata": {
        "id": "s0MsGBU4jvhj"
      },
      "source": [
        "import numpy as np\n",
        "import math\n",
        "import re # advanced text pre-processing\n",
        "import pandas as pd\n"
      ],
      "execution_count": null,
      "outputs": []
    },
    {
      "cell_type": "markdown",
      "metadata": {
        "id": "MJWNlRk6jwlS"
      },
      "source": [
        ""
      ]
    }
  ]
}